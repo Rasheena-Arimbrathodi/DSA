{
  "cells": [
    {
      "cell_type": "markdown",
      "metadata": {
        "id": "view-in-github",
        "colab_type": "text"
      },
      "source": [
        "<a href=\"https://colab.research.google.com/github/Rasheena-Arimbrathodi/DSA/blob/main/stack.ipynb\" target=\"_parent\"><img src=\"https://colab.research.google.com/assets/colab-badge.svg\" alt=\"Open In Colab\"/></a>"
      ]
    },
    {
      "cell_type": "markdown",
      "metadata": {
        "id": "hVBM36hxSl79"
      },
      "source": [
        "<h2 style='color:purple' align='center'>Data Structures Tutorial: Stack</h2>"
      ]
    },
    {
      "cell_type": "markdown",
      "metadata": {
        "id": "rmIoQ3qQSl8B"
      },
      "source": [
        "<h3 style='color:blue'>Using a list as a stack</h3>"
      ]
    },
    {
      "cell_type": "code",
      "execution_count": null,
      "metadata": {
        "id": "sX4JEwTiSl8C"
      },
      "outputs": [],
      "source": [
        "s = []\n",
        "s.append('https://www.cnn.com/')\n",
        "s.append('https://www.cnn.com/world')\n",
        "s.append('https://www.cnn.com/india')\n",
        "s.append('https://www.cnn.com/china')"
      ]
    },
    {
      "cell_type": "code",
      "execution_count": null,
      "metadata": {
        "id": "tV_LLZDgSl8F",
        "outputId": "dd7fbcb5-c452-4705-ec8b-68f12da4a2de"
      },
      "outputs": [
        {
          "data": {
            "text/plain": [
              "'https://www.cnn.com/china'"
            ]
          },
          "execution_count": 25,
          "metadata": {},
          "output_type": "execute_result"
        }
      ],
      "source": [
        "s.pop()"
      ]
    },
    {
      "cell_type": "code",
      "execution_count": null,
      "metadata": {
        "id": "i3G6qDyWSl8G",
        "outputId": "0449d93a-e319-4f0f-ed74-84063a8c728e"
      },
      "outputs": [
        {
          "data": {
            "text/plain": [
              "'https://www.cnn.com/india'"
            ]
          },
          "execution_count": 26,
          "metadata": {},
          "output_type": "execute_result"
        }
      ],
      "source": [
        "s.pop()"
      ]
    },
    {
      "cell_type": "code",
      "execution_count": null,
      "metadata": {
        "scrolled": true,
        "id": "UkiCSyPZSl8H",
        "outputId": "f67cd357-b5d1-4a83-b4d9-11a52a4aebc3"
      },
      "outputs": [
        {
          "data": {
            "text/plain": [
              "['https://www.cnn.com/', 'https://www.cnn.com/world']"
            ]
          },
          "execution_count": 27,
          "metadata": {},
          "output_type": "execute_result"
        }
      ],
      "source": [
        "s"
      ]
    },
    {
      "cell_type": "code",
      "execution_count": null,
      "metadata": {
        "scrolled": true,
        "id": "BsvVaPGUSl8I",
        "outputId": "1fdf10bb-efac-4dbd-989f-1d4afc6e85f9"
      },
      "outputs": [
        {
          "data": {
            "text/plain": [
              "'https://www.cnn.com/world'"
            ]
          },
          "execution_count": 28,
          "metadata": {},
          "output_type": "execute_result"
        }
      ],
      "source": [
        "s[-1]"
      ]
    },
    {
      "cell_type": "markdown",
      "metadata": {
        "id": "aiPozb7wSl8I"
      },
      "source": [
        "**The issue with using a list as a stack is that list uses dymanic array internally and when it reaches its capacity it will reallocate a big chunk of memory somewhere else in memory area and copy all the elements. For example in below diagram if a list has a capacity of 10 and we try to insert 11th element, it will not allocate new memory in a different memory region, copy all 10 elements and then insert the 11th element. So overhead here is (1) allocate new memory plus (2) copy all existing elements in new memory area**"
      ]
    },
    {
      "cell_type": "markdown",
      "metadata": {
        "id": "WFe0r-81Sl8I"
      },
      "source": [
        "<img src=\"dynamic_memory.png\" />"
      ]
    },
    {
      "cell_type": "markdown",
      "metadata": {
        "id": "GAtO4LlcSl8J"
      },
      "source": [
        "<h3 style='color:blue'>Using deque as a stack</h3>"
      ]
    },
    {
      "cell_type": "code",
      "execution_count": null,
      "metadata": {
        "id": "S3xhf_AESl8J"
      },
      "outputs": [],
      "source": [
        "from collections import deque\n",
        "stack = deque()"
      ]
    },
    {
      "cell_type": "code",
      "execution_count": null,
      "metadata": {
        "id": "UM9TdRUJSl8K",
        "outputId": "f9ca24e5-c5a2-4a58-bbff-471003954e44"
      },
      "outputs": [
        {
          "data": {
            "text/plain": [
              "['__add__',\n",
              " '__bool__',\n",
              " '__class__',\n",
              " '__contains__',\n",
              " '__copy__',\n",
              " '__delattr__',\n",
              " '__delitem__',\n",
              " '__dir__',\n",
              " '__doc__',\n",
              " '__eq__',\n",
              " '__format__',\n",
              " '__ge__',\n",
              " '__getattribute__',\n",
              " '__getitem__',\n",
              " '__gt__',\n",
              " '__hash__',\n",
              " '__iadd__',\n",
              " '__imul__',\n",
              " '__init__',\n",
              " '__init_subclass__',\n",
              " '__iter__',\n",
              " '__le__',\n",
              " '__len__',\n",
              " '__lt__',\n",
              " '__mul__',\n",
              " '__ne__',\n",
              " '__new__',\n",
              " '__reduce__',\n",
              " '__reduce_ex__',\n",
              " '__repr__',\n",
              " '__reversed__',\n",
              " '__rmul__',\n",
              " '__setattr__',\n",
              " '__setitem__',\n",
              " '__sizeof__',\n",
              " '__str__',\n",
              " '__subclasshook__',\n",
              " 'append',\n",
              " 'appendleft',\n",
              " 'clear',\n",
              " 'copy',\n",
              " 'count',\n",
              " 'extend',\n",
              " 'extendleft',\n",
              " 'index',\n",
              " 'insert',\n",
              " 'maxlen',\n",
              " 'pop',\n",
              " 'popleft',\n",
              " 'remove',\n",
              " 'reverse',\n",
              " 'rotate']"
            ]
          },
          "execution_count": 29,
          "metadata": {},
          "output_type": "execute_result"
        }
      ],
      "source": [
        "dir(stack)"
      ]
    },
    {
      "cell_type": "code",
      "execution_count": null,
      "metadata": {
        "id": "zWQO3X93Sl8K",
        "outputId": "2ac8079e-c80d-42df-bd00-dba4a1cbe89b"
      },
      "outputs": [
        {
          "data": {
            "text/plain": [
              "deque(['https://www.cnn.com/'])"
            ]
          },
          "execution_count": 13,
          "metadata": {},
          "output_type": "execute_result"
        }
      ],
      "source": [
        "stack.append(\"https://www.cnn.com/\")\n",
        "stack"
      ]
    },
    {
      "cell_type": "code",
      "execution_count": null,
      "metadata": {
        "id": "Y4Ipgea9Sl8L",
        "outputId": "543d292f-6479-4835-f3f3-f8fc065773ef"
      },
      "outputs": [
        {
          "data": {
            "text/plain": [
              "deque(['https://www.cnn.com/', 'https://www.cnn.com/world'])"
            ]
          },
          "execution_count": 14,
          "metadata": {},
          "output_type": "execute_result"
        }
      ],
      "source": [
        "stack.append(\"https://www.cnn.com/world\")\n",
        "stack"
      ]
    },
    {
      "cell_type": "code",
      "execution_count": null,
      "metadata": {
        "id": "T9o8mCRCSl8L",
        "outputId": "6c3f0824-7f85-406a-cc78-9705b18620de"
      },
      "outputs": [
        {
          "data": {
            "text/plain": [
              "deque(['https://www.cnn.com/',\n",
              "       'https://www.cnn.com/world',\n",
              "       'https://www.cnn.com/india',\n",
              "       'https://www.cnn.com/china'])"
            ]
          },
          "execution_count": 15,
          "metadata": {},
          "output_type": "execute_result"
        }
      ],
      "source": [
        "stack.append(\"https://www.cnn.com/india\")\n",
        "stack.append(\"https://www.cnn.com/china\")\n",
        "stack"
      ]
    },
    {
      "cell_type": "code",
      "execution_count": null,
      "metadata": {
        "id": "M1AkIMFcSl8M",
        "outputId": "2c26cfc6-49d0-45b7-f370-e59838e2c2af"
      },
      "outputs": [
        {
          "data": {
            "text/plain": [
              "'https://www.cnn.com/china'"
            ]
          },
          "execution_count": 16,
          "metadata": {},
          "output_type": "execute_result"
        }
      ],
      "source": [
        "stack.pop()"
      ]
    },
    {
      "cell_type": "code",
      "execution_count": null,
      "metadata": {
        "scrolled": true,
        "id": "2x5r4m3ySl8N",
        "outputId": "6fa5f24e-b9fa-4e60-d5ba-0924d2441e94"
      },
      "outputs": [
        {
          "data": {
            "text/plain": [
              "'https://www.cnn.com/india'"
            ]
          },
          "execution_count": 17,
          "metadata": {},
          "output_type": "execute_result"
        }
      ],
      "source": [
        "stack.pop()"
      ]
    },
    {
      "cell_type": "code",
      "execution_count": null,
      "metadata": {
        "id": "0ajNViCQSl8N",
        "outputId": "2f7ff278-233f-43e9-c4cd-ed18523c4a18"
      },
      "outputs": [
        {
          "data": {
            "text/plain": [
              "deque(['https://www.cnn.com/', 'https://www.cnn.com/world'])"
            ]
          },
          "execution_count": 18,
          "metadata": {},
          "output_type": "execute_result"
        }
      ],
      "source": [
        "stack"
      ]
    },
    {
      "cell_type": "code",
      "execution_count": null,
      "metadata": {
        "id": "u2m8dUlkSl8N",
        "outputId": "5982fc65-fb7e-4e1a-a144-90daca04c875"
      },
      "outputs": [
        {
          "data": {
            "text/plain": [
              "'https://www.cnn.com/world'"
            ]
          },
          "execution_count": 20,
          "metadata": {},
          "output_type": "execute_result"
        }
      ],
      "source": [
        "stack.pop()"
      ]
    },
    {
      "cell_type": "code",
      "execution_count": null,
      "metadata": {
        "id": "SVcS_RjbSl8O",
        "outputId": "d5cacbf2-735e-4707-bc7b-11ced369675c"
      },
      "outputs": [
        {
          "data": {
            "text/plain": [
              "'https://www.cnn.com/'"
            ]
          },
          "execution_count": 21,
          "metadata": {},
          "output_type": "execute_result"
        }
      ],
      "source": [
        "stack.pop()"
      ]
    },
    {
      "cell_type": "code",
      "execution_count": null,
      "metadata": {
        "scrolled": false,
        "id": "gcJIVT7PSl8O",
        "outputId": "f6f67cd8-323c-435c-ac45-4668a6f53588"
      },
      "outputs": [
        {
          "ename": "IndexError",
          "evalue": "pop from an empty deque",
          "output_type": "error",
          "traceback": [
            "\u001b[1;31m---------------------------------------------------------------------------\u001b[0m",
            "\u001b[1;31mIndexError\u001b[0m                                Traceback (most recent call last)",
            "\u001b[1;32m<ipython-input-22-415460d3b717>\u001b[0m in \u001b[0;36m<module>\u001b[1;34m\u001b[0m\n\u001b[1;32m----> 1\u001b[1;33m \u001b[0mstack\u001b[0m\u001b[1;33m.\u001b[0m\u001b[0mpop\u001b[0m\u001b[1;33m(\u001b[0m\u001b[1;33m)\u001b[0m\u001b[1;33m\u001b[0m\u001b[1;33m\u001b[0m\u001b[0m\n\u001b[0m",
            "\u001b[1;31mIndexError\u001b[0m: pop from an empty deque"
          ]
        }
      ],
      "source": [
        "stack.pop()"
      ]
    },
    {
      "cell_type": "markdown",
      "metadata": {
        "id": "LiqGRaV6Sl8O"
      },
      "source": [
        "<h3 style='color:blue'>Implement Stack class using a deque</h3>"
      ]
    },
    {
      "cell_type": "code",
      "execution_count": null,
      "metadata": {
        "id": "vozTMdRPSl8O"
      },
      "outputs": [],
      "source": [
        "class Stack:\n",
        "    def __init__(self):\n",
        "        self.container = deque()\n",
        "\n",
        "    def push(self,val):\n",
        "        self.container.append(val)\n",
        "\n",
        "    def pop(self):\n",
        "        return self.container.pop()\n",
        "\n",
        "    def peek(self):\n",
        "        return  self.container[-1]\n",
        "\n",
        "    def is_empty(self):\n",
        "        return len(self.container)==0\n",
        "\n",
        "    def size(self):\n",
        "        return len(self.container)"
      ]
    },
    {
      "cell_type": "code",
      "execution_count": null,
      "metadata": {
        "id": "V0w3TnveSl8P"
      },
      "outputs": [],
      "source": [
        "s = Stack()\n",
        "s.push(5)"
      ]
    },
    {
      "cell_type": "code",
      "execution_count": null,
      "metadata": {
        "id": "eMfWOIbBSl8P",
        "outputId": "73cf05cc-39a2-41f1-9856-4b70ed0cf2bc"
      },
      "outputs": [
        {
          "data": {
            "text/plain": [
              "False"
            ]
          },
          "execution_count": 43,
          "metadata": {},
          "output_type": "execute_result"
        }
      ],
      "source": [
        "s.is_empty()"
      ]
    },
    {
      "cell_type": "code",
      "execution_count": null,
      "metadata": {
        "id": "LF_JbAOsSl8P",
        "outputId": "4ffcb9aa-8c11-4a08-e894-e83fbfcdffd3"
      },
      "outputs": [
        {
          "data": {
            "text/plain": [
              "5"
            ]
          },
          "execution_count": 44,
          "metadata": {},
          "output_type": "execute_result"
        }
      ],
      "source": [
        "s.pop()"
      ]
    },
    {
      "cell_type": "code",
      "execution_count": null,
      "metadata": {
        "id": "hCkQBd4TSl8Q",
        "outputId": "39acbe12-9632-497f-f7b0-a70c613acc34"
      },
      "outputs": [
        {
          "data": {
            "text/plain": [
              "True"
            ]
          },
          "execution_count": 45,
          "metadata": {},
          "output_type": "execute_result"
        }
      ],
      "source": [
        "s.is_empty()"
      ]
    },
    {
      "cell_type": "code",
      "execution_count": null,
      "metadata": {
        "id": "xOZF1j-PSl8Q"
      },
      "outputs": [],
      "source": [
        "s.push(9)\n",
        "s.push(34)\n",
        "s.push(78)\n",
        "s.push(12)"
      ]
    },
    {
      "cell_type": "code",
      "execution_count": null,
      "metadata": {
        "id": "AMfmsLLvSl8Q",
        "outputId": "e5c7af98-59af-4421-e295-27899f7de076"
      },
      "outputs": [
        {
          "data": {
            "text/plain": [
              "12"
            ]
          },
          "execution_count": 47,
          "metadata": {},
          "output_type": "execute_result"
        }
      ],
      "source": [
        "s.peek()"
      ]
    },
    {
      "cell_type": "code",
      "execution_count": null,
      "metadata": {
        "id": "v1Cdl-HpSl8R",
        "outputId": "547ccfba-6a1e-42f2-edec-7d87e76c262d"
      },
      "outputs": [
        {
          "data": {
            "text/plain": [
              "12"
            ]
          },
          "execution_count": 48,
          "metadata": {},
          "output_type": "execute_result"
        }
      ],
      "source": [
        "s.pop()"
      ]
    },
    {
      "cell_type": "code",
      "execution_count": null,
      "metadata": {
        "scrolled": true,
        "id": "1be0zxW-Sl8R",
        "outputId": "27bea928-0303-46af-878a-f6e608606a4f"
      },
      "outputs": [
        {
          "data": {
            "text/plain": [
              "78"
            ]
          },
          "execution_count": 49,
          "metadata": {},
          "output_type": "execute_result"
        }
      ],
      "source": [
        "s.pop()"
      ]
    },
    {
      "cell_type": "code",
      "execution_count": null,
      "metadata": {
        "id": "ctihEwfvSl8R",
        "outputId": "8a093133-9f31-45c2-b71a-1006c0a834f5"
      },
      "outputs": [
        {
          "data": {
            "text/plain": [
              "34"
            ]
          },
          "execution_count": 50,
          "metadata": {},
          "output_type": "execute_result"
        }
      ],
      "source": [
        "s.pop()"
      ]
    },
    {
      "cell_type": "code",
      "execution_count": null,
      "metadata": {
        "id": "Pk1_MQWFSl8S",
        "outputId": "01eac9c6-78e6-4c8f-df5c-766af9b94711"
      },
      "outputs": [
        {
          "data": {
            "text/plain": [
              "9"
            ]
          },
          "execution_count": 51,
          "metadata": {},
          "output_type": "execute_result"
        }
      ],
      "source": [
        "s.pop()"
      ]
    },
    {
      "cell_type": "code",
      "execution_count": null,
      "metadata": {
        "id": "QiygcQUlSl8S",
        "outputId": "b04fc569-97ef-4b54-c0d1-4aea0026a584"
      },
      "outputs": [
        {
          "ename": "IndexError",
          "evalue": "pop from an empty deque",
          "output_type": "error",
          "traceback": [
            "\u001b[1;31m---------------------------------------------------------------------------\u001b[0m",
            "\u001b[1;31mIndexError\u001b[0m                                Traceback (most recent call last)",
            "\u001b[1;32m<ipython-input-52-c88c8c48122b>\u001b[0m in \u001b[0;36m<module>\u001b[1;34m\u001b[0m\n\u001b[1;32m----> 1\u001b[1;33m \u001b[0ms\u001b[0m\u001b[1;33m.\u001b[0m\u001b[0mpop\u001b[0m\u001b[1;33m(\u001b[0m\u001b[1;33m)\u001b[0m\u001b[1;33m\u001b[0m\u001b[1;33m\u001b[0m\u001b[0m\n\u001b[0m",
            "\u001b[1;32m<ipython-input-41-f432a50cab7c>\u001b[0m in \u001b[0;36mpop\u001b[1;34m(self)\u001b[0m\n\u001b[0;32m      7\u001b[0m \u001b[1;33m\u001b[0m\u001b[0m\n\u001b[0;32m      8\u001b[0m     \u001b[1;32mdef\u001b[0m \u001b[0mpop\u001b[0m\u001b[1;33m(\u001b[0m\u001b[0mself\u001b[0m\u001b[1;33m)\u001b[0m\u001b[1;33m:\u001b[0m\u001b[1;33m\u001b[0m\u001b[1;33m\u001b[0m\u001b[0m\n\u001b[1;32m----> 9\u001b[1;33m         \u001b[1;32mreturn\u001b[0m \u001b[0mself\u001b[0m\u001b[1;33m.\u001b[0m\u001b[0mcontainer\u001b[0m\u001b[1;33m.\u001b[0m\u001b[0mpop\u001b[0m\u001b[1;33m(\u001b[0m\u001b[1;33m)\u001b[0m\u001b[1;33m\u001b[0m\u001b[1;33m\u001b[0m\u001b[0m\n\u001b[0m\u001b[0;32m     10\u001b[0m \u001b[1;33m\u001b[0m\u001b[0m\n\u001b[0;32m     11\u001b[0m     \u001b[1;32mdef\u001b[0m \u001b[0mpeek\u001b[0m\u001b[1;33m(\u001b[0m\u001b[0mself\u001b[0m\u001b[1;33m)\u001b[0m\u001b[1;33m:\u001b[0m\u001b[1;33m\u001b[0m\u001b[1;33m\u001b[0m\u001b[0m\n",
            "\u001b[1;31mIndexError\u001b[0m: pop from an empty deque"
          ]
        }
      ],
      "source": [
        "s.pop()"
      ]
    },
    {
      "cell_type": "code",
      "source": [
        "#reverse string\n",
        "from collections import deque\n",
        "\n",
        "class Stack:\n",
        "    def __init__(self):\n",
        "        self.container = deque()\n",
        "\n",
        "    def push(self, val):\n",
        "        self.container.append(val)\n",
        "\n",
        "    def pop(self):\n",
        "        return self.container.pop()\n",
        "\n",
        "    def peek(self):\n",
        "        return self.container[-1]\n",
        "\n",
        "    def is_empty(self):\n",
        "        return len(self.container) == 0\n",
        "\n",
        "    def size(self):\n",
        "        return len(self.container)\n",
        "\n",
        "def reverse_string(s):\n",
        "    stack = Stack()\n",
        "\n",
        "    for ch in s:\n",
        "        stack.push(ch)\n",
        "\n",
        "    rstr = ''\n",
        "    while stack.size()!=0:\n",
        "        rstr += stack.pop()\n",
        "\n",
        "    return rstr\n",
        "\n",
        "\n",
        "if __name__ == '__main__':\n",
        "    print(reverse_string(\"We will conquere COVI-19\"))\n",
        "    print(reverse_string(\"I am the king\"))"
      ],
      "metadata": {
        "colab": {
          "base_uri": "https://localhost:8080/"
        },
        "id": "PNv0qxFRSo5U",
        "outputId": "a3f0ad23-94a1-4b71-acb2-59794fca05ae"
      },
      "execution_count": 1,
      "outputs": [
        {
          "output_type": "stream",
          "name": "stdout",
          "text": [
            "91-IVOC ereuqnoc lliw eW\n",
            "gnik eht ma I\n"
          ]
        }
      ]
    },
    {
      "cell_type": "code",
      "source": [
        "#string is balanced\n",
        "def is_match(ch1, ch2):\n",
        "    match_dict = {\n",
        "        ')': '(',\n",
        "        ']': '[',\n",
        "        '}': '{'\n",
        "    }\n",
        "    return match_dict[ch1] == ch2\n",
        "\n",
        "\n",
        "def is_balanced(s):\n",
        "    stack = Stack()\n",
        "    for ch in s:\n",
        "        if ch == '(' or ch == '{' or ch == '[':\n",
        "            stack.push(ch)\n",
        "        if ch == ')' or ch == '}' or ch == ']':\n",
        "            if stack.size() == 0:\n",
        "                return False\n",
        "            if not is_match(ch, stack.pop()):\n",
        "                return False\n",
        "\n",
        "    return stack.size() == 0\n"
      ],
      "metadata": {
        "id": "T6OBpLO4UXkG"
      },
      "execution_count": 2,
      "outputs": []
    }
  ],
  "metadata": {
    "kernelspec": {
      "display_name": "Python 3",
      "language": "python",
      "name": "python3"
    },
    "language_info": {
      "codemirror_mode": {
        "name": "ipython",
        "version": 3
      },
      "file_extension": ".py",
      "mimetype": "text/x-python",
      "name": "python",
      "nbconvert_exporter": "python",
      "pygments_lexer": "ipython3",
      "version": "3.7.3"
    },
    "colab": {
      "provenance": [],
      "include_colab_link": true
    }
  },
  "nbformat": 4,
  "nbformat_minor": 0
}