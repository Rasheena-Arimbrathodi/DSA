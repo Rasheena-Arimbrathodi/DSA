{
  "cells": [
    {
      "cell_type": "markdown",
      "metadata": {
        "id": "view-in-github",
        "colab_type": "text"
      },
      "source": [
        "<a href=\"https://colab.research.google.com/github/Rasheena-Arimbrathodi/code/blob/main/queue.ipynb\" target=\"_parent\"><img src=\"https://colab.research.google.com/assets/colab-badge.svg\" alt=\"Open In Colab\"/></a>"
      ]
    },
    {
      "cell_type": "markdown",
      "metadata": {
        "id": "9F-nUaHm7ZVY"
      },
      "source": [
        "<h2 style='color:purple' align='center'>Data Structures Tutorial: Queue</h2>"
      ]
    },
    {
      "cell_type": "markdown",
      "metadata": {
        "id": "xS5sA3_H7ZVb"
      },
      "source": [
        "<h3 style='color:blue'>Using list as a queue</h3>"
      ]
    },
    {
      "cell_type": "code",
      "execution_count": 1,
      "metadata": {
        "id": "eD717J9T7ZVc"
      },
      "outputs": [],
      "source": [
        "wmt_stock_price_queue = []"
      ]
    },
    {
      "cell_type": "code",
      "execution_count": 2,
      "metadata": {
        "id": "YNzSvS5a7ZVd"
      },
      "outputs": [],
      "source": [
        "wmt_stock_price_queue.insert(0,131.10)\n",
        "wmt_stock_price_queue.insert(0,132.12)\n",
        "wmt_stock_price_queue.insert(0,135)"
      ]
    },
    {
      "cell_type": "code",
      "execution_count": 3,
      "metadata": {
        "colab": {
          "base_uri": "https://localhost:8080/"
        },
        "id": "mmVcqjfD7ZVd",
        "outputId": "8dc33ab0-6cf9-4029-8fcd-dfc2129c8cdd"
      },
      "outputs": [
        {
          "output_type": "execute_result",
          "data": {
            "text/plain": [
              "[135, 132.12, 131.1]"
            ]
          },
          "metadata": {},
          "execution_count": 3
        }
      ],
      "source": [
        "wmt_stock_price_queue"
      ]
    },
    {
      "cell_type": "code",
      "execution_count": 4,
      "metadata": {
        "colab": {
          "base_uri": "https://localhost:8080/"
        },
        "id": "NemhjCuC7ZVe",
        "outputId": "94171b42-3f8e-4df6-f509-230ecf9294be"
      },
      "outputs": [
        {
          "output_type": "execute_result",
          "data": {
            "text/plain": [
              "131.1"
            ]
          },
          "metadata": {},
          "execution_count": 4
        }
      ],
      "source": [
        "wmt_stock_price_queue.pop()"
      ]
    },
    {
      "cell_type": "code",
      "execution_count": 5,
      "metadata": {
        "colab": {
          "base_uri": "https://localhost:8080/"
        },
        "id": "19P3_hw57ZVe",
        "outputId": "47c7b5cc-5d36-43a3-f7ff-2f5854e82ece"
      },
      "outputs": [
        {
          "output_type": "execute_result",
          "data": {
            "text/plain": [
              "[135, 132.12]"
            ]
          },
          "metadata": {},
          "execution_count": 5
        }
      ],
      "source": [
        "wmt_stock_price_queue"
      ]
    },
    {
      "cell_type": "code",
      "execution_count": 6,
      "metadata": {
        "colab": {
          "base_uri": "https://localhost:8080/"
        },
        "id": "rohu5vUJ7ZVf",
        "outputId": "d2b5a0ce-9de4-475c-b7e8-e6b8f5a9899f"
      },
      "outputs": [
        {
          "output_type": "execute_result",
          "data": {
            "text/plain": [
              "132.12"
            ]
          },
          "metadata": {},
          "execution_count": 6
        }
      ],
      "source": [
        "wmt_stock_price_queue.pop()"
      ]
    },
    {
      "cell_type": "code",
      "execution_count": 7,
      "metadata": {
        "colab": {
          "base_uri": "https://localhost:8080/"
        },
        "id": "ilE6qKhm7ZVf",
        "outputId": "0c80e45d-db8e-44d2-c91d-90f668c02007"
      },
      "outputs": [
        {
          "output_type": "execute_result",
          "data": {
            "text/plain": [
              "135"
            ]
          },
          "metadata": {},
          "execution_count": 7
        }
      ],
      "source": [
        "wmt_stock_price_queue.pop()"
      ]
    },
    {
      "cell_type": "code",
      "execution_count": 8,
      "metadata": {
        "colab": {
          "base_uri": "https://localhost:8080/",
          "height": 153
        },
        "id": "UjhG--EC7ZVf",
        "outputId": "f7d15d18-fbb9-4a62-92d5-cedb637afc22"
      },
      "outputs": [
        {
          "output_type": "error",
          "ename": "IndexError",
          "evalue": "pop from empty list",
          "traceback": [
            "\u001b[0;31m---------------------------------------------------------------------------\u001b[0m",
            "\u001b[0;31mIndexError\u001b[0m                                Traceback (most recent call last)",
            "\u001b[0;32m<ipython-input-8-09580442e205>\u001b[0m in \u001b[0;36m<cell line: 1>\u001b[0;34m()\u001b[0m\n\u001b[0;32m----> 1\u001b[0;31m \u001b[0mwmt_stock_price_queue\u001b[0m\u001b[0;34m.\u001b[0m\u001b[0mpop\u001b[0m\u001b[0;34m(\u001b[0m\u001b[0;34m)\u001b[0m\u001b[0;34m\u001b[0m\u001b[0;34m\u001b[0m\u001b[0m\n\u001b[0m",
            "\u001b[0;31mIndexError\u001b[0m: pop from empty list"
          ]
        }
      ],
      "source": [
        "wmt_stock_price_queue.pop()"
      ]
    },
    {
      "cell_type": "markdown",
      "metadata": {
        "id": "UL-SylKi7ZVg"
      },
      "source": [
        "<h3 style='color:blue'>Using collections.deque as a queue</h3>"
      ]
    },
    {
      "cell_type": "code",
      "execution_count": 9,
      "metadata": {
        "id": "zPGMLBh37ZVg"
      },
      "outputs": [],
      "source": [
        "from collections import deque\n",
        "q = deque()"
      ]
    },
    {
      "cell_type": "code",
      "execution_count": 10,
      "metadata": {
        "colab": {
          "base_uri": "https://localhost:8080/"
        },
        "id": "eUXl47Ei7ZVg",
        "outputId": "95167e71-64bb-4fa1-8af0-283fa18c0ab1"
      },
      "outputs": [
        {
          "output_type": "execute_result",
          "data": {
            "text/plain": [
              "deque([10, 8, 5])"
            ]
          },
          "metadata": {},
          "execution_count": 10
        }
      ],
      "source": [
        "q.appendleft(5)\n",
        "q.appendleft(8)\n",
        "q.appendleft(10)\n",
        "q"
      ]
    },
    {
      "cell_type": "code",
      "execution_count": null,
      "metadata": {
        "id": "PtEHsyJY7ZVg"
      },
      "outputs": [],
      "source": [
        "q.pop()"
      ]
    },
    {
      "cell_type": "code",
      "execution_count": 11,
      "metadata": {
        "colab": {
          "base_uri": "https://localhost:8080/"
        },
        "id": "exJa6TL27ZVh",
        "outputId": "43ed5d7a-b4ef-44f1-9b85-46e08ddf7078"
      },
      "outputs": [
        {
          "output_type": "execute_result",
          "data": {
            "text/plain": [
              "deque([10, 8, 5])"
            ]
          },
          "metadata": {},
          "execution_count": 11
        }
      ],
      "source": [
        "q"
      ]
    },
    {
      "cell_type": "code",
      "execution_count": 12,
      "metadata": {
        "colab": {
          "base_uri": "https://localhost:8080/"
        },
        "id": "lGzA2x1E7ZVh",
        "outputId": "db85ecdc-3a14-495e-fea1-ee99be53adc0"
      },
      "outputs": [
        {
          "output_type": "execute_result",
          "data": {
            "text/plain": [
              "5"
            ]
          },
          "metadata": {},
          "execution_count": 12
        }
      ],
      "source": [
        "q.pop()"
      ]
    },
    {
      "cell_type": "code",
      "execution_count": 13,
      "metadata": {
        "colab": {
          "base_uri": "https://localhost:8080/"
        },
        "id": "hUIN8PI67ZVh",
        "outputId": "864ba87e-8883-4cd4-a404-66587d29d9d5"
      },
      "outputs": [
        {
          "output_type": "execute_result",
          "data": {
            "text/plain": [
              "8"
            ]
          },
          "metadata": {},
          "execution_count": 13
        }
      ],
      "source": [
        "q.pop()"
      ]
    },
    {
      "cell_type": "code",
      "execution_count": 14,
      "metadata": {
        "scrolled": true,
        "colab": {
          "base_uri": "https://localhost:8080/"
        },
        "id": "6DiY93x27ZVi",
        "outputId": "11962709-0a57-4870-f5b4-c29cc9c04629"
      },
      "outputs": [
        {
          "output_type": "execute_result",
          "data": {
            "text/plain": [
              "10"
            ]
          },
          "metadata": {},
          "execution_count": 14
        }
      ],
      "source": [
        "q.pop()"
      ]
    },
    {
      "cell_type": "markdown",
      "metadata": {
        "id": "e0ZbrCyN7ZVi"
      },
      "source": [
        "<h3 style='color:blue'>Implement queue class using collections.deque</h3>"
      ]
    },
    {
      "cell_type": "code",
      "execution_count": 15,
      "metadata": {
        "id": "pJd1cL8q7ZVi"
      },
      "outputs": [],
      "source": [
        "from collections import deque\n",
        "\n",
        "class Queue:\n",
        "\n",
        "    def __init__(self):\n",
        "        self.buffer = deque()\n",
        "\n",
        "    def enqueue(self, val):\n",
        "        self.buffer.appendleft(val)\n",
        "\n",
        "    def dequeue(self):\n",
        "        return self.buffer.pop()\n",
        "\n",
        "    def is_empty(self):\n",
        "        return len(self.buffer)==0\n",
        "\n",
        "    def size(self):\n",
        "        return len(self.buffer)"
      ]
    },
    {
      "cell_type": "code",
      "execution_count": 16,
      "metadata": {
        "id": "w_LMqJ4z7ZVi"
      },
      "outputs": [],
      "source": [
        "pq = Queue()\n",
        "\n",
        "pq.enqueue({\n",
        "    'company': 'Wall Mart',\n",
        "    'timestamp': '15 apr, 11.01 AM',\n",
        "    'price': 131.10\n",
        "})\n",
        "pq.enqueue({\n",
        "    'company': 'Wall Mart',\n",
        "    'timestamp': '15 apr, 11.02 AM',\n",
        "    'price': 132\n",
        "})\n",
        "pq.enqueue({\n",
        "    'company': 'Wall Mart',\n",
        "    'timestamp': '15 apr, 11.03 AM',\n",
        "    'price': 135\n",
        "})"
      ]
    },
    {
      "cell_type": "code",
      "execution_count": 17,
      "metadata": {
        "colab": {
          "base_uri": "https://localhost:8080/"
        },
        "id": "LgcpU-ek7ZVi",
        "outputId": "c8add1df-e117-4f7a-d10a-66cba5b6479b"
      },
      "outputs": [
        {
          "output_type": "execute_result",
          "data": {
            "text/plain": [
              "3"
            ]
          },
          "metadata": {},
          "execution_count": 17
        }
      ],
      "source": [
        "pq.size()"
      ]
    },
    {
      "cell_type": "code",
      "execution_count": 18,
      "metadata": {
        "colab": {
          "base_uri": "https://localhost:8080/"
        },
        "id": "sWEz_VNw7ZVj",
        "outputId": "eab8596a-13e5-4f8c-8071-d05762ff118e"
      },
      "outputs": [
        {
          "output_type": "execute_result",
          "data": {
            "text/plain": [
              "{'company': 'Wall Mart', 'timestamp': '15 apr, 11.01 AM', 'price': 131.1}"
            ]
          },
          "metadata": {},
          "execution_count": 18
        }
      ],
      "source": [
        "pq.dequeue()"
      ]
    },
    {
      "cell_type": "code",
      "execution_count": 19,
      "metadata": {
        "colab": {
          "base_uri": "https://localhost:8080/"
        },
        "id": "dAenNe7Q7ZVj",
        "outputId": "016ca381-5409-46d3-b9e3-079fe31cbbe3"
      },
      "outputs": [
        {
          "output_type": "execute_result",
          "data": {
            "text/plain": [
              "{'company': 'Wall Mart', 'timestamp': '15 apr, 11.02 AM', 'price': 132}"
            ]
          },
          "metadata": {},
          "execution_count": 19
        }
      ],
      "source": [
        "pq.dequeue()"
      ]
    },
    {
      "cell_type": "markdown",
      "source": [
        "Design a food ordering system where your python program will run two threads,\n",
        "\n",
        "Place Order: This thread will be placing an order and inserting that into a queue. This thread places new order every 0.5 second. (hint: use time.sleep(0.5) function)\n",
        "Serve Order: This thread will server the order. All you need to do is pop the order out of the queue and print it. This thread serves an order every 2 seconds. Also start this thread 1 second after place order thread is started.\n",
        "Use this video to get yourself familiar with multithreading in python\n",
        "\n",
        "Pass following list as an argument to place order thread,\n",
        "\n",
        "orders = ['pizza','samosa','pasta','biryani','burger']\n",
        "This problem is a producer,consumer problem where place_order thread is producing orders whereas server_order thread is consuming the food orders. Use Queue class implemented in a video tutorial."
      ],
      "metadata": {
        "id": "55BZ4MrN7qVI"
      }
    },
    {
      "cell_type": "code",
      "source": [
        "'''import time\n",
        "list_of_orders=deque()\n",
        "def taking_order():\n",
        "    list_of_orders.appendleft(input())\n",
        "    time.sleep(0.5)\n",
        "    print(list_of_orders)\n",
        "def placing_order():\n",
        "    list_of_orders.pop()\n",
        "    time.sleep(0.5)'''\n",
        "import threading\n",
        "import time\n",
        "\n",
        "from collections import deque\n",
        "\n",
        "class Queue:\n",
        "    def __init__(self):\n",
        "        self.buffer = deque()\n",
        "\n",
        "    def enqueue(self, val):\n",
        "        self.buffer.appendleft(val)\n",
        "\n",
        "    def dequeue(self):\n",
        "        if len(self.buffer)==0:\n",
        "            print(\"Queue is empty\")\n",
        "            return\n",
        "\n",
        "        return self.buffer.pop()\n",
        "\n",
        "    def is_empty(self):\n",
        "        return len(self.buffer) == 0\n",
        "\n",
        "    def size(self):\n",
        "        return len(self.buffer)\n",
        "\n",
        "food_order_queue = Queue()\n",
        "\n",
        "def place_orders(orders):\n",
        "    for order in orders:\n",
        "        print(\"Placing order for:\",order)\n",
        "        food_order_queue.enqueue(order)\n",
        "        time.sleep(0.5)\n",
        "\n",
        "\n",
        "def serve_orders():\n",
        "    time.sleep(1)\n",
        "    while True:\n",
        "        order = food_order_queue.dequeue()\n",
        "        print(\"Now serving: \",order)\n",
        "        time.sleep(2)\n",
        "\n",
        "if __name__ == '__main__':\n",
        "    orders = ['pizza','samosa','pasta','biryani','burger']\n",
        "    t1 = threading.Thread(target=place_orders, args=(orders,))\n",
        "    t2 = threading.Thread(target=serve_orders)\n",
        "\n",
        "    t1.start()\n",
        "    t2.start()"
      ],
      "metadata": {
        "colab": {
          "base_uri": "https://localhost:8080/"
        },
        "id": "TK0CyCag7uv-",
        "outputId": "709fbd66-65bf-40a2-d52e-4e13fa6fe0a8"
      },
      "execution_count": 26,
      "outputs": [
        {
          "output_type": "stream",
          "name": "stdout",
          "text": [
            "Queue is empty\n",
            "Now serving:  None\n",
            "Placing order for: pizza\n",
            "Now serving:  pizza\n"
          ]
        }
      ]
    }
  ],
  "metadata": {
    "kernelspec": {
      "display_name": "Python 3",
      "language": "python",
      "name": "python3"
    },
    "language_info": {
      "codemirror_mode": {
        "name": "ipython",
        "version": 3
      },
      "file_extension": ".py",
      "mimetype": "text/x-python",
      "name": "python",
      "nbconvert_exporter": "python",
      "pygments_lexer": "ipython3",
      "version": "3.7.3"
    },
    "colab": {
      "provenance": [],
      "include_colab_link": true
    }
  },
  "nbformat": 4,
  "nbformat_minor": 0
}